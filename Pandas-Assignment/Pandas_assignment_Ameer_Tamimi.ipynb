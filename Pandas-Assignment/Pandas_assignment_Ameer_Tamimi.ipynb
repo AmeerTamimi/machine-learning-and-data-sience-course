{
 "cells": [
  {
   "cell_type": "code",
   "execution_count": 3,
   "metadata": {
    "executionInfo": {
     "elapsed": 352,
     "status": "ok",
     "timestamp": 1754722401622,
     "user": {
      "displayName": "Ameer Tamimi",
      "userId": "12915908939757294525"
     },
     "user_tz": -180
    },
    "id": "-XK9Rhzsp_zQ"
   },
   "outputs": [],
   "source": [
    "import pandas as pd"
   ]
  },
  {
   "cell_type": "code",
   "execution_count": null,
   "metadata": {
    "executionInfo": {
     "elapsed": 80,
     "status": "ok",
     "timestamp": 1754722402232,
     "user": {
      "displayName": "Ameer Tamimi",
      "userId": "12915908939757294525"
     },
     "user_tz": -180
    },
    "id": "qeDuBh1gx4XI"
   },
   "outputs": [],
   "source": [
    "# read california_housing_train csv file from colab\n",
    "df = pd.read_csv(\"california_housing_train.csv\")"
   ]
  },
  {
   "cell_type": "markdown",
   "metadata": {
    "id": "RN_JIjXpkELJ"
   },
   "source": [
    "# Q1\n",
    "\n",
    " Show the first 7 rows from the Data-Frame"
   ]
  },
  {
   "cell_type": "code",
   "execution_count": 5,
   "metadata": {
    "colab": {
     "base_uri": "https://localhost:8080/"
    },
    "executionInfo": {
     "elapsed": 21,
     "status": "ok",
     "timestamp": 1754722403018,
     "user": {
      "displayName": "Ameer Tamimi",
      "userId": "12915908939757294525"
     },
     "user_tz": -180
    },
    "id": "e7jfn9Umx46n",
    "outputId": "65ba264e-399d-42f4-fbda-bd28dd3fd733"
   },
   "outputs": [
    {
     "name": "stdout",
     "output_type": "stream",
     "text": [
      "   longitude  latitude  housing_median_age  total_rooms  total_bedrooms  \\\n",
      "0    -114.31     34.19                15.0       5612.0          1283.0   \n",
      "1    -114.47     34.40                19.0       7650.0          1901.0   \n",
      "2    -114.56     33.69                17.0        720.0           174.0   \n",
      "3    -114.57     33.64                14.0       1501.0           337.0   \n",
      "4    -114.57     33.57                20.0       1454.0           326.0   \n",
      "5    -114.58     33.63                29.0       1387.0           236.0   \n",
      "6    -114.58     33.61                25.0       2907.0           680.0   \n",
      "\n",
      "   population  households  median_income  median_house_value  \n",
      "0      1015.0       472.0         1.4936             66900.0  \n",
      "1      1129.0       463.0         1.8200             80100.0  \n",
      "2       333.0       117.0         1.6509             85700.0  \n",
      "3       515.0       226.0         3.1917             73400.0  \n",
      "4       624.0       262.0         1.9250             65500.0  \n",
      "5       671.0       239.0         3.3438             74000.0  \n",
      "6      1841.0       633.0         2.6768             82400.0  \n"
     ]
    }
   ],
   "source": [
    "# Q1 solution\n",
    "output = df[:7]\n",
    "output = df.head(7)\n",
    "print(output)\n"
   ]
  },
  {
   "cell_type": "markdown",
   "metadata": {
    "id": "w0N9FmxVkN9n"
   },
   "source": [
    "# Q2\n",
    "\n",
    "Show the last 2 rows from the Data-Frame"
   ]
  },
  {
   "cell_type": "code",
   "execution_count": 6,
   "metadata": {
    "colab": {
     "base_uri": "https://localhost:8080/"
    },
    "executionInfo": {
     "elapsed": 12,
     "status": "ok",
     "timestamp": 1754722418120,
     "user": {
      "displayName": "Ameer Tamimi",
      "userId": "12915908939757294525"
     },
     "user_tz": -180
    },
    "id": "7CmtVhqNx44e",
    "outputId": "d873786c-e8e2-4ee3-ea11-4828f5c8e53f"
   },
   "outputs": [
    {
     "name": "stdout",
     "output_type": "stream",
     "text": [
      "       longitude  latitude  housing_median_age  total_rooms  total_bedrooms  \\\n",
      "16998    -124.30     41.80                19.0       2672.0           552.0   \n",
      "16999    -124.35     40.54                52.0       1820.0           300.0   \n",
      "\n",
      "       population  households  median_income  median_house_value  \n",
      "16998      1298.0       478.0         1.9797             85800.0  \n",
      "16999       806.0       270.0         3.0147             94600.0  \n"
     ]
    }
   ],
   "source": [
    "# Q2 solution\n",
    "output = df.tail(2)\n",
    "output = df[-2:]\n",
    "print(output)\n"
   ]
  },
  {
   "cell_type": "markdown",
   "metadata": {
    "id": "KaC82wk7kUSQ"
   },
   "source": [
    "# Q3\n",
    "\n",
    "Show the first 7 rows for total_rooms, total_bedrooms, and median_house_value from the Data-Frame\n",
    "\n",
    "3.1- Use head() function\n",
    "\n",
    "\n",
    "3.2 Use .loc() \"location\" function"
   ]
  },
  {
   "cell_type": "code",
   "execution_count": 12,
   "metadata": {
    "colab": {
     "base_uri": "https://localhost:8080/"
    },
    "executionInfo": {
     "elapsed": 7,
     "status": "ok",
     "timestamp": 1754722582972,
     "user": {
      "displayName": "Ameer Tamimi",
      "userId": "12915908939757294525"
     },
     "user_tz": -180
    },
    "id": "jgQ3N9UazJhc",
    "outputId": "d1bfcffd-bab5-4b03-84c8-c796e5ce5db8"
   },
   "outputs": [
    {
     "name": "stdout",
     "output_type": "stream",
     "text": [
      "   total_rooms  total_bedrooms  median_house_value\n",
      "0       5612.0          1283.0             66900.0\n",
      "1       7650.0          1901.0             80100.0\n",
      "2        720.0           174.0             85700.0\n",
      "3       1501.0           337.0             73400.0\n",
      "4       1454.0           326.0             65500.0\n",
      "5       1387.0           236.0             74000.0\n",
      "6       2907.0           680.0             82400.0\n",
      "   total_rooms  total_bedrooms  median_house_value\n",
      "0       5612.0          1283.0             66900.0\n",
      "1       7650.0          1901.0             80100.0\n",
      "2        720.0           174.0             85700.0\n",
      "3       1501.0           337.0             73400.0\n",
      "4       1454.0           326.0             65500.0\n",
      "5       1387.0           236.0             74000.0\n",
      "6       2907.0           680.0             82400.0\n"
     ]
    }
   ],
   "source": [
    "# Q3 solution\n",
    "\n",
    "# 3.1\n",
    "output = df[[\"total_rooms\" , \"total_bedrooms\" , \"median_house_value\"]].head(7)\n",
    "print(output)\n",
    "# 3.2\n",
    "output = df.loc[:6 , [\"total_rooms\" , \"total_bedrooms\" , \"median_house_value\"]]\n",
    "print(output)\n"
   ]
  },
  {
   "cell_type": "markdown",
   "metadata": {
    "id": "toB5DAQ2klvq"
   },
   "source": [
    "# Q4\n",
    "\n",
    "4.1- Describe Data-Frame for housing_median_age, and median_house_value attributs, create df_desc variable to hold the describe output\n",
    "\n",
    "4.2- Select standard deviation, mean, Q3 from df_desc\n",
    "\n",
    "4.3 print IQR for housing_median_age attribute"
   ]
  },
  {
   "cell_type": "code",
   "execution_count": 13,
   "metadata": {
    "colab": {
     "base_uri": "https://localhost:8080/"
    },
    "executionInfo": {
     "elapsed": 32,
     "status": "ok",
     "timestamp": 1754722722537,
     "user": {
      "displayName": "Ameer Tamimi",
      "userId": "12915908939757294525"
     },
     "user_tz": -180
    },
    "id": "-wXXWlehlP0y",
    "outputId": "d61ad0d8-751b-4796-93c7-afae3c0f376a"
   },
   "outputs": [
    {
     "name": "stdout",
     "output_type": "stream",
     "text": [
      "       housing_median_age  median_house_value\n",
      "count        17000.000000        17000.000000\n",
      "mean            28.589353       207300.912353\n",
      "std             12.586937       115983.764387\n",
      "min              1.000000        14999.000000\n",
      "25%             18.000000       119400.000000\n",
      "50%             29.000000       180400.000000\n",
      "75%             37.000000       265000.000000\n",
      "max             52.000000       500001.000000\n"
     ]
    }
   ],
   "source": [
    "# Q4 solution\n",
    "# 4.1 solution\n",
    "df_desc = (df[[\"housing_median_age\",\"median_house_value\"]]).describe()\n",
    "print(df_desc)\n"
   ]
  },
  {
   "cell_type": "code",
   "execution_count": 16,
   "metadata": {
    "colab": {
     "base_uri": "https://localhost:8080/"
    },
    "executionInfo": {
     "elapsed": 7,
     "status": "ok",
     "timestamp": 1754722951733,
     "user": {
      "displayName": "Ameer Tamimi",
      "userId": "12915908939757294525"
     },
     "user_tz": -180
    },
    "id": "otzBkZ4JlPyk",
    "outputId": "e5556333-f1a8-405e-a022-5d9467090183"
   },
   "outputs": [
    {
     "name": "stdout",
     "output_type": "stream",
     "text": [
      "      housing_median_age  median_house_value\n",
      "mean           28.589353       207300.912353\n",
      "std            12.586937       115983.764387\n",
      "75%            37.000000       265000.000000\n"
     ]
    }
   ],
   "source": [
    "# 4.2\n",
    "output = df_desc.iloc[[1,2,6] , :]\n",
    "print(output)"
   ]
  },
  {
   "cell_type": "code",
   "execution_count": 27,
   "metadata": {
    "colab": {
     "base_uri": "https://localhost:8080/"
    },
    "executionInfo": {
     "elapsed": 11,
     "status": "ok",
     "timestamp": 1754723402134,
     "user": {
      "displayName": "Ameer Tamimi",
      "userId": "12915908939757294525"
     },
     "user_tz": -180
    },
    "id": "v_pgC7kbzh3W",
    "outputId": "650aaa0e-211b-4101-b8ee-48e57a13779f"
   },
   "outputs": [
    {
     "name": "stdout",
     "output_type": "stream",
     "text": [
      "19.0\n"
     ]
    }
   ],
   "source": [
    "# # 4.3\n",
    "Q1 = df_desc.loc[\"25%\" , \"housing_median_age\"]\n",
    "Q3 = df_desc.loc[\"75%\" , \"housing_median_age\"]\n",
    "\n",
    "IQR =  Q3 - Q1\n",
    "\n",
    "print(IQR)"
   ]
  },
  {
   "cell_type": "markdown",
   "metadata": {
    "id": "Og6EOEFYlbWT"
   },
   "source": [
    "# Q5\n",
    "\n",
    "If you have the following described Data-Frame\n",
    "\n",
    "5.1- Calulate IQR for all columns/ attributes\n",
    "\n",
    "5.2- Create new Data-Frame with IQR in the last index\n",
    "\n",
    "\n",
    "**Hint : Use Transpose method**"
   ]
  },
  {
   "cell_type": "code",
   "execution_count": 28,
   "metadata": {
    "colab": {
     "base_uri": "https://localhost:8080/",
     "height": 320
    },
    "executionInfo": {
     "elapsed": 63,
     "status": "ok",
     "timestamp": 1754723947310,
     "user": {
      "displayName": "Ameer Tamimi",
      "userId": "12915908939757294525"
     },
     "user_tz": -180
    },
    "id": "svvvO1aA7whT",
    "outputId": "1d537224-e3cb-478e-aebe-2d1c2825b13f"
   },
   "outputs": [
    {
     "data": {
      "application/vnd.google.colaboratory.intrinsic+json": {
       "summary": "{\n  \"name\": \"df_desc\",\n  \"rows\": 8,\n  \"fields\": [\n    {\n      \"column\": \"longitude\",\n      \"properties\": {\n        \"dtype\": \"number\",\n        \"std\": 6046.6451651071675,\n        \"min\": -124.35,\n        \"max\": 17000.0,\n        \"num_unique_values\": 8,\n        \"samples\": [\n          -119.5621082352941,\n          -118.49,\n          17000.0\n        ],\n        \"semantic_type\": \"\",\n        \"description\": \"\"\n      }\n    },\n    {\n      \"column\": \"latitude\",\n      \"properties\": {\n        \"dtype\": \"number\",\n        \"std\": 5999.40166383228,\n        \"min\": 2.1373397946570734,\n        \"max\": 17000.0,\n        \"num_unique_values\": 8,\n        \"samples\": [\n          35.62522470588235,\n          34.25,\n          17000.0\n        ],\n        \"semantic_type\": \"\",\n        \"description\": \"\"\n      }\n    },\n    {\n      \"column\": \"housing_median_age\",\n      \"properties\": {\n        \"dtype\": \"number\",\n        \"std\": 6001.428368089024,\n        \"min\": 1.0,\n        \"max\": 17000.0,\n        \"num_unique_values\": 8,\n        \"samples\": [\n          28.58935294117647,\n          29.0,\n          17000.0\n        ],\n        \"semantic_type\": \"\",\n        \"description\": \"\"\n      }\n    },\n    {\n      \"column\": \"total_rooms\",\n      \"properties\": {\n        \"dtype\": \"number\",\n        \"std\": 13113.353227786365,\n        \"min\": 2.0,\n        \"max\": 37937.0,\n        \"num_unique_values\": 8,\n        \"samples\": [\n          2643.664411764706,\n          2127.0,\n          17000.0\n        ],\n        \"semantic_type\": \"\",\n        \"description\": \"\"\n      }\n    },\n    {\n      \"column\": \"total_bedrooms\",\n      \"properties\": {\n        \"dtype\": \"number\",\n        \"std\": 5959.238771737063,\n        \"min\": 1.0,\n        \"max\": 17000.0,\n        \"num_unique_values\": 8,\n        \"samples\": [\n          539.4108235294118,\n          434.0,\n          17000.0\n        ],\n        \"semantic_type\": \"\",\n        \"description\": \"\"\n      }\n    },\n    {\n      \"column\": \"population\",\n      \"properties\": {\n        \"dtype\": \"number\",\n        \"std\": 12740.640658201448,\n        \"min\": 3.0,\n        \"max\": 35682.0,\n        \"num_unique_values\": 8,\n        \"samples\": [\n          1429.5739411764705,\n          1167.0,\n          17000.0\n        ],\n        \"semantic_type\": \"\",\n        \"description\": \"\"\n      }\n    },\n    {\n      \"column\": \"households\",\n      \"properties\": {\n        \"dtype\": \"number\",\n        \"std\": 5942.738122392389,\n        \"min\": 1.0,\n        \"max\": 17000.0,\n        \"num_unique_values\": 8,\n        \"samples\": [\n          501.2219411764706,\n          409.0,\n          17000.0\n        ],\n        \"semantic_type\": \"\",\n        \"description\": \"\"\n      }\n    },\n    {\n      \"column\": \"median_income\",\n      \"properties\": {\n        \"dtype\": \"number\",\n        \"std\": 6008.784464952051,\n        \"min\": 0.4999,\n        \"max\": 17000.0,\n        \"num_unique_values\": 8,\n        \"samples\": [\n          3.8835781000000007,\n          3.5446,\n          17000.0\n        ],\n        \"semantic_type\": \"\",\n        \"description\": \"\"\n      }\n    },\n    {\n      \"column\": \"median_house_value\",\n      \"properties\": {\n        \"dtype\": \"number\",\n        \"std\": 156700.95757149634,\n        \"min\": 14999.0,\n        \"max\": 500001.0,\n        \"num_unique_values\": 8,\n        \"samples\": [\n          207300.91235294117,\n          180400.0,\n          17000.0\n        ],\n        \"semantic_type\": \"\",\n        \"description\": \"\"\n      }\n    }\n  ]\n}",
       "type": "dataframe",
       "variable_name": "df_desc"
      },
      "text/html": [
       "\n",
       "  <div id=\"df-b16db275-65f1-40e3-b8b2-e290ca4dde43\" class=\"colab-df-container\">\n",
       "    <div>\n",
       "<style scoped>\n",
       "    .dataframe tbody tr th:only-of-type {\n",
       "        vertical-align: middle;\n",
       "    }\n",
       "\n",
       "    .dataframe tbody tr th {\n",
       "        vertical-align: top;\n",
       "    }\n",
       "\n",
       "    .dataframe thead th {\n",
       "        text-align: right;\n",
       "    }\n",
       "</style>\n",
       "<table border=\"1\" class=\"dataframe\">\n",
       "  <thead>\n",
       "    <tr style=\"text-align: right;\">\n",
       "      <th></th>\n",
       "      <th>longitude</th>\n",
       "      <th>latitude</th>\n",
       "      <th>housing_median_age</th>\n",
       "      <th>total_rooms</th>\n",
       "      <th>total_bedrooms</th>\n",
       "      <th>population</th>\n",
       "      <th>households</th>\n",
       "      <th>median_income</th>\n",
       "      <th>median_house_value</th>\n",
       "    </tr>\n",
       "  </thead>\n",
       "  <tbody>\n",
       "    <tr>\n",
       "      <th>count</th>\n",
       "      <td>17000.000000</td>\n",
       "      <td>17000.000000</td>\n",
       "      <td>17000.000000</td>\n",
       "      <td>17000.000000</td>\n",
       "      <td>17000.000000</td>\n",
       "      <td>17000.000000</td>\n",
       "      <td>17000.000000</td>\n",
       "      <td>17000.000000</td>\n",
       "      <td>17000.000000</td>\n",
       "    </tr>\n",
       "    <tr>\n",
       "      <th>mean</th>\n",
       "      <td>-119.562108</td>\n",
       "      <td>35.625225</td>\n",
       "      <td>28.589353</td>\n",
       "      <td>2643.664412</td>\n",
       "      <td>539.410824</td>\n",
       "      <td>1429.573941</td>\n",
       "      <td>501.221941</td>\n",
       "      <td>3.883578</td>\n",
       "      <td>207300.912353</td>\n",
       "    </tr>\n",
       "    <tr>\n",
       "      <th>std</th>\n",
       "      <td>2.005166</td>\n",
       "      <td>2.137340</td>\n",
       "      <td>12.586937</td>\n",
       "      <td>2179.947071</td>\n",
       "      <td>421.499452</td>\n",
       "      <td>1147.852959</td>\n",
       "      <td>384.520841</td>\n",
       "      <td>1.908157</td>\n",
       "      <td>115983.764387</td>\n",
       "    </tr>\n",
       "    <tr>\n",
       "      <th>min</th>\n",
       "      <td>-124.350000</td>\n",
       "      <td>32.540000</td>\n",
       "      <td>1.000000</td>\n",
       "      <td>2.000000</td>\n",
       "      <td>1.000000</td>\n",
       "      <td>3.000000</td>\n",
       "      <td>1.000000</td>\n",
       "      <td>0.499900</td>\n",
       "      <td>14999.000000</td>\n",
       "    </tr>\n",
       "    <tr>\n",
       "      <th>25%</th>\n",
       "      <td>-121.790000</td>\n",
       "      <td>33.930000</td>\n",
       "      <td>18.000000</td>\n",
       "      <td>1462.000000</td>\n",
       "      <td>297.000000</td>\n",
       "      <td>790.000000</td>\n",
       "      <td>282.000000</td>\n",
       "      <td>2.566375</td>\n",
       "      <td>119400.000000</td>\n",
       "    </tr>\n",
       "    <tr>\n",
       "      <th>50%</th>\n",
       "      <td>-118.490000</td>\n",
       "      <td>34.250000</td>\n",
       "      <td>29.000000</td>\n",
       "      <td>2127.000000</td>\n",
       "      <td>434.000000</td>\n",
       "      <td>1167.000000</td>\n",
       "      <td>409.000000</td>\n",
       "      <td>3.544600</td>\n",
       "      <td>180400.000000</td>\n",
       "    </tr>\n",
       "    <tr>\n",
       "      <th>75%</th>\n",
       "      <td>-118.000000</td>\n",
       "      <td>37.720000</td>\n",
       "      <td>37.000000</td>\n",
       "      <td>3151.250000</td>\n",
       "      <td>648.250000</td>\n",
       "      <td>1721.000000</td>\n",
       "      <td>605.250000</td>\n",
       "      <td>4.767000</td>\n",
       "      <td>265000.000000</td>\n",
       "    </tr>\n",
       "    <tr>\n",
       "      <th>max</th>\n",
       "      <td>-114.310000</td>\n",
       "      <td>41.950000</td>\n",
       "      <td>52.000000</td>\n",
       "      <td>37937.000000</td>\n",
       "      <td>6445.000000</td>\n",
       "      <td>35682.000000</td>\n",
       "      <td>6082.000000</td>\n",
       "      <td>15.000100</td>\n",
       "      <td>500001.000000</td>\n",
       "    </tr>\n",
       "  </tbody>\n",
       "</table>\n",
       "</div>\n",
       "    <div class=\"colab-df-buttons\">\n",
       "\n",
       "  <div class=\"colab-df-container\">\n",
       "    <button class=\"colab-df-convert\" onclick=\"convertToInteractive('df-b16db275-65f1-40e3-b8b2-e290ca4dde43')\"\n",
       "            title=\"Convert this dataframe to an interactive table.\"\n",
       "            style=\"display:none;\">\n",
       "\n",
       "  <svg xmlns=\"http://www.w3.org/2000/svg\" height=\"24px\" viewBox=\"0 -960 960 960\">\n",
       "    <path d=\"M120-120v-720h720v720H120Zm60-500h600v-160H180v160Zm220 220h160v-160H400v160Zm0 220h160v-160H400v160ZM180-400h160v-160H180v160Zm440 0h160v-160H620v160ZM180-180h160v-160H180v160Zm440 0h160v-160H620v160Z\"/>\n",
       "  </svg>\n",
       "    </button>\n",
       "\n",
       "  <style>\n",
       "    .colab-df-container {\n",
       "      display:flex;\n",
       "      gap: 12px;\n",
       "    }\n",
       "\n",
       "    .colab-df-convert {\n",
       "      background-color: #E8F0FE;\n",
       "      border: none;\n",
       "      border-radius: 50%;\n",
       "      cursor: pointer;\n",
       "      display: none;\n",
       "      fill: #1967D2;\n",
       "      height: 32px;\n",
       "      padding: 0 0 0 0;\n",
       "      width: 32px;\n",
       "    }\n",
       "\n",
       "    .colab-df-convert:hover {\n",
       "      background-color: #E2EBFA;\n",
       "      box-shadow: 0px 1px 2px rgba(60, 64, 67, 0.3), 0px 1px 3px 1px rgba(60, 64, 67, 0.15);\n",
       "      fill: #174EA6;\n",
       "    }\n",
       "\n",
       "    .colab-df-buttons div {\n",
       "      margin-bottom: 4px;\n",
       "    }\n",
       "\n",
       "    [theme=dark] .colab-df-convert {\n",
       "      background-color: #3B4455;\n",
       "      fill: #D2E3FC;\n",
       "    }\n",
       "\n",
       "    [theme=dark] .colab-df-convert:hover {\n",
       "      background-color: #434B5C;\n",
       "      box-shadow: 0px 1px 3px 1px rgba(0, 0, 0, 0.15);\n",
       "      filter: drop-shadow(0px 1px 2px rgba(0, 0, 0, 0.3));\n",
       "      fill: #FFFFFF;\n",
       "    }\n",
       "  </style>\n",
       "\n",
       "    <script>\n",
       "      const buttonEl =\n",
       "        document.querySelector('#df-b16db275-65f1-40e3-b8b2-e290ca4dde43 button.colab-df-convert');\n",
       "      buttonEl.style.display =\n",
       "        google.colab.kernel.accessAllowed ? 'block' : 'none';\n",
       "\n",
       "      async function convertToInteractive(key) {\n",
       "        const element = document.querySelector('#df-b16db275-65f1-40e3-b8b2-e290ca4dde43');\n",
       "        const dataTable =\n",
       "          await google.colab.kernel.invokeFunction('convertToInteractive',\n",
       "                                                    [key], {});\n",
       "        if (!dataTable) return;\n",
       "\n",
       "        const docLinkHtml = 'Like what you see? Visit the ' +\n",
       "          '<a target=\"_blank\" href=https://colab.research.google.com/notebooks/data_table.ipynb>data table notebook</a>'\n",
       "          + ' to learn more about interactive tables.';\n",
       "        element.innerHTML = '';\n",
       "        dataTable['output_type'] = 'display_data';\n",
       "        await google.colab.output.renderOutput(dataTable, element);\n",
       "        const docLink = document.createElement('div');\n",
       "        docLink.innerHTML = docLinkHtml;\n",
       "        element.appendChild(docLink);\n",
       "      }\n",
       "    </script>\n",
       "  </div>\n",
       "\n",
       "\n",
       "    <div id=\"df-bf38a10c-a197-4b0c-b73a-13dcd20abb49\">\n",
       "      <button class=\"colab-df-quickchart\" onclick=\"quickchart('df-bf38a10c-a197-4b0c-b73a-13dcd20abb49')\"\n",
       "                title=\"Suggest charts\"\n",
       "                style=\"display:none;\">\n",
       "\n",
       "<svg xmlns=\"http://www.w3.org/2000/svg\" height=\"24px\"viewBox=\"0 0 24 24\"\n",
       "     width=\"24px\">\n",
       "    <g>\n",
       "        <path d=\"M19 3H5c-1.1 0-2 .9-2 2v14c0 1.1.9 2 2 2h14c1.1 0 2-.9 2-2V5c0-1.1-.9-2-2-2zM9 17H7v-7h2v7zm4 0h-2V7h2v10zm4 0h-2v-4h2v4z\"/>\n",
       "    </g>\n",
       "</svg>\n",
       "      </button>\n",
       "\n",
       "<style>\n",
       "  .colab-df-quickchart {\n",
       "      --bg-color: #E8F0FE;\n",
       "      --fill-color: #1967D2;\n",
       "      --hover-bg-color: #E2EBFA;\n",
       "      --hover-fill-color: #174EA6;\n",
       "      --disabled-fill-color: #AAA;\n",
       "      --disabled-bg-color: #DDD;\n",
       "  }\n",
       "\n",
       "  [theme=dark] .colab-df-quickchart {\n",
       "      --bg-color: #3B4455;\n",
       "      --fill-color: #D2E3FC;\n",
       "      --hover-bg-color: #434B5C;\n",
       "      --hover-fill-color: #FFFFFF;\n",
       "      --disabled-bg-color: #3B4455;\n",
       "      --disabled-fill-color: #666;\n",
       "  }\n",
       "\n",
       "  .colab-df-quickchart {\n",
       "    background-color: var(--bg-color);\n",
       "    border: none;\n",
       "    border-radius: 50%;\n",
       "    cursor: pointer;\n",
       "    display: none;\n",
       "    fill: var(--fill-color);\n",
       "    height: 32px;\n",
       "    padding: 0;\n",
       "    width: 32px;\n",
       "  }\n",
       "\n",
       "  .colab-df-quickchart:hover {\n",
       "    background-color: var(--hover-bg-color);\n",
       "    box-shadow: 0 1px 2px rgba(60, 64, 67, 0.3), 0 1px 3px 1px rgba(60, 64, 67, 0.15);\n",
       "    fill: var(--button-hover-fill-color);\n",
       "  }\n",
       "\n",
       "  .colab-df-quickchart-complete:disabled,\n",
       "  .colab-df-quickchart-complete:disabled:hover {\n",
       "    background-color: var(--disabled-bg-color);\n",
       "    fill: var(--disabled-fill-color);\n",
       "    box-shadow: none;\n",
       "  }\n",
       "\n",
       "  .colab-df-spinner {\n",
       "    border: 2px solid var(--fill-color);\n",
       "    border-color: transparent;\n",
       "    border-bottom-color: var(--fill-color);\n",
       "    animation:\n",
       "      spin 1s steps(1) infinite;\n",
       "  }\n",
       "\n",
       "  @keyframes spin {\n",
       "    0% {\n",
       "      border-color: transparent;\n",
       "      border-bottom-color: var(--fill-color);\n",
       "      border-left-color: var(--fill-color);\n",
       "    }\n",
       "    20% {\n",
       "      border-color: transparent;\n",
       "      border-left-color: var(--fill-color);\n",
       "      border-top-color: var(--fill-color);\n",
       "    }\n",
       "    30% {\n",
       "      border-color: transparent;\n",
       "      border-left-color: var(--fill-color);\n",
       "      border-top-color: var(--fill-color);\n",
       "      border-right-color: var(--fill-color);\n",
       "    }\n",
       "    40% {\n",
       "      border-color: transparent;\n",
       "      border-right-color: var(--fill-color);\n",
       "      border-top-color: var(--fill-color);\n",
       "    }\n",
       "    60% {\n",
       "      border-color: transparent;\n",
       "      border-right-color: var(--fill-color);\n",
       "    }\n",
       "    80% {\n",
       "      border-color: transparent;\n",
       "      border-right-color: var(--fill-color);\n",
       "      border-bottom-color: var(--fill-color);\n",
       "    }\n",
       "    90% {\n",
       "      border-color: transparent;\n",
       "      border-bottom-color: var(--fill-color);\n",
       "    }\n",
       "  }\n",
       "</style>\n",
       "\n",
       "      <script>\n",
       "        async function quickchart(key) {\n",
       "          const quickchartButtonEl =\n",
       "            document.querySelector('#' + key + ' button');\n",
       "          quickchartButtonEl.disabled = true;  // To prevent multiple clicks.\n",
       "          quickchartButtonEl.classList.add('colab-df-spinner');\n",
       "          try {\n",
       "            const charts = await google.colab.kernel.invokeFunction(\n",
       "                'suggestCharts', [key], {});\n",
       "          } catch (error) {\n",
       "            console.error('Error during call to suggestCharts:', error);\n",
       "          }\n",
       "          quickchartButtonEl.classList.remove('colab-df-spinner');\n",
       "          quickchartButtonEl.classList.add('colab-df-quickchart-complete');\n",
       "        }\n",
       "        (() => {\n",
       "          let quickchartButtonEl =\n",
       "            document.querySelector('#df-bf38a10c-a197-4b0c-b73a-13dcd20abb49 button');\n",
       "          quickchartButtonEl.style.display =\n",
       "            google.colab.kernel.accessAllowed ? 'block' : 'none';\n",
       "        })();\n",
       "      </script>\n",
       "    </div>\n",
       "\n",
       "  <div id=\"id_868212c2-f3fd-420e-9e8a-c6a34e1b3886\">\n",
       "    <style>\n",
       "      .colab-df-generate {\n",
       "        background-color: #E8F0FE;\n",
       "        border: none;\n",
       "        border-radius: 50%;\n",
       "        cursor: pointer;\n",
       "        display: none;\n",
       "        fill: #1967D2;\n",
       "        height: 32px;\n",
       "        padding: 0 0 0 0;\n",
       "        width: 32px;\n",
       "      }\n",
       "\n",
       "      .colab-df-generate:hover {\n",
       "        background-color: #E2EBFA;\n",
       "        box-shadow: 0px 1px 2px rgba(60, 64, 67, 0.3), 0px 1px 3px 1px rgba(60, 64, 67, 0.15);\n",
       "        fill: #174EA6;\n",
       "      }\n",
       "\n",
       "      [theme=dark] .colab-df-generate {\n",
       "        background-color: #3B4455;\n",
       "        fill: #D2E3FC;\n",
       "      }\n",
       "\n",
       "      [theme=dark] .colab-df-generate:hover {\n",
       "        background-color: #434B5C;\n",
       "        box-shadow: 0px 1px 3px 1px rgba(0, 0, 0, 0.15);\n",
       "        filter: drop-shadow(0px 1px 2px rgba(0, 0, 0, 0.3));\n",
       "        fill: #FFFFFF;\n",
       "      }\n",
       "    </style>\n",
       "    <button class=\"colab-df-generate\" onclick=\"generateWithVariable('df_desc')\"\n",
       "            title=\"Generate code using this dataframe.\"\n",
       "            style=\"display:none;\">\n",
       "\n",
       "  <svg xmlns=\"http://www.w3.org/2000/svg\" height=\"24px\"viewBox=\"0 0 24 24\"\n",
       "       width=\"24px\">\n",
       "    <path d=\"M7,19H8.4L18.45,9,17,7.55,7,17.6ZM5,21V16.75L18.45,3.32a2,2,0,0,1,2.83,0l1.4,1.43a1.91,1.91,0,0,1,.58,1.4,1.91,1.91,0,0,1-.58,1.4L9.25,21ZM18.45,9,17,7.55Zm-12,3A5.31,5.31,0,0,0,4.9,8.1,5.31,5.31,0,0,0,1,6.5,5.31,5.31,0,0,0,4.9,4.9,5.31,5.31,0,0,0,6.5,1,5.31,5.31,0,0,0,8.1,4.9,5.31,5.31,0,0,0,12,6.5,5.46,5.46,0,0,0,6.5,12Z\"/>\n",
       "  </svg>\n",
       "    </button>\n",
       "    <script>\n",
       "      (() => {\n",
       "      const buttonEl =\n",
       "        document.querySelector('#id_868212c2-f3fd-420e-9e8a-c6a34e1b3886 button.colab-df-generate');\n",
       "      buttonEl.style.display =\n",
       "        google.colab.kernel.accessAllowed ? 'block' : 'none';\n",
       "\n",
       "      buttonEl.onclick = () => {\n",
       "        google.colab.notebook.generateWithVariable('df_desc');\n",
       "      }\n",
       "      })();\n",
       "    </script>\n",
       "  </div>\n",
       "\n",
       "    </div>\n",
       "  </div>\n"
      ],
      "text/plain": [
       "          longitude      latitude  housing_median_age   total_rooms  \\\n",
       "count  17000.000000  17000.000000        17000.000000  17000.000000   \n",
       "mean    -119.562108     35.625225           28.589353   2643.664412   \n",
       "std        2.005166      2.137340           12.586937   2179.947071   \n",
       "min     -124.350000     32.540000            1.000000      2.000000   \n",
       "25%     -121.790000     33.930000           18.000000   1462.000000   \n",
       "50%     -118.490000     34.250000           29.000000   2127.000000   \n",
       "75%     -118.000000     37.720000           37.000000   3151.250000   \n",
       "max     -114.310000     41.950000           52.000000  37937.000000   \n",
       "\n",
       "       total_bedrooms    population    households  median_income  \\\n",
       "count    17000.000000  17000.000000  17000.000000   17000.000000   \n",
       "mean       539.410824   1429.573941    501.221941       3.883578   \n",
       "std        421.499452   1147.852959    384.520841       1.908157   \n",
       "min          1.000000      3.000000      1.000000       0.499900   \n",
       "25%        297.000000    790.000000    282.000000       2.566375   \n",
       "50%        434.000000   1167.000000    409.000000       3.544600   \n",
       "75%        648.250000   1721.000000    605.250000       4.767000   \n",
       "max       6445.000000  35682.000000   6082.000000      15.000100   \n",
       "\n",
       "       median_house_value  \n",
       "count        17000.000000  \n",
       "mean        207300.912353  \n",
       "std         115983.764387  \n",
       "min          14999.000000  \n",
       "25%         119400.000000  \n",
       "50%         180400.000000  \n",
       "75%         265000.000000  \n",
       "max         500001.000000  "
      ]
     },
     "execution_count": 28,
     "metadata": {},
     "output_type": "execute_result"
    }
   ],
   "source": [
    "df_desc = df.describe()\n",
    "df_desc"
   ]
  },
  {
   "cell_type": "markdown",
   "metadata": {
    "id": "4E8_HWhGl9xo"
   },
   "source": [
    "Output should be like this 😺"
   ]
  },
  {
   "cell_type": "code",
   "execution_count": 139,
   "metadata": {
    "colab": {
     "base_uri": "https://localhost:8080/"
    },
    "executionInfo": {
     "elapsed": 44,
     "status": "ok",
     "timestamp": 1754741131521,
     "user": {
      "displayName": "Ameer Tamimi",
      "userId": "12915908939757294525"
     },
     "user_tz": -180
    },
    "id": "ceLoWUMlBVKL",
    "outputId": "a518c12d-094f-452c-e6f6-c5671c6644ed"
   },
   "outputs": [
    {
     "name": "stdout",
     "output_type": "stream",
     "text": [
      "longitude                  3.790000\n",
      "latitude                   3.790000\n",
      "housing_median_age        19.000000\n",
      "total_rooms             1689.250000\n",
      "total_bedrooms           351.250000\n",
      "population               931.000000\n",
      "households               323.250000\n",
      "median_income              2.200625\n",
      "median_house_value    145600.000000\n",
      "IQR                             NaN\n",
      "dtype: float64\n"
     ]
    }
   ],
   "source": [
    "# Q5.1\n",
    "transpose_desc = df_desc.T\n",
    "IQR = df_desc.loc[\"75%\"] - df_desc.loc[\"25%\"]\n",
    "print(IQR)"
   ]
  },
  {
   "cell_type": "code",
   "execution_count": 151,
   "metadata": {
    "colab": {
     "base_uri": "https://localhost:8080/"
    },
    "executionInfo": {
     "elapsed": 11,
     "status": "ok",
     "timestamp": 1754741355033,
     "user": {
      "displayName": "Ameer Tamimi",
      "userId": "12915908939757294525"
     },
     "user_tz": -180
    },
    "id": "RVbcZdmE7wfU",
    "outputId": "77dc7c8d-b3d8-4745-df49-ce0029724ad5"
   },
   "outputs": [
    {
     "name": "stdout",
     "output_type": "stream",
     "text": [
      "          longitude      latitude  housing_median_age   total_rooms  \\\n",
      "count  17000.000000  17000.000000        17000.000000  17000.000000   \n",
      "mean    -119.562108     35.625225           28.589353   2643.664412   \n",
      "std        2.005166      2.137340           12.586937   2179.947071   \n",
      "min     -124.350000     32.540000            1.000000      2.000000   \n",
      "25%     -121.790000     33.930000           18.000000   1462.000000   \n",
      "50%     -118.490000     34.250000           29.000000   2127.000000   \n",
      "75%     -118.000000     37.720000           37.000000   3151.250000   \n",
      "max     -114.310000     41.950000           52.000000  37937.000000   \n",
      "IQR        3.790000      3.790000           19.000000   1689.250000   \n",
      "\n",
      "       total_bedrooms    population    households  median_income  \\\n",
      "count    17000.000000  17000.000000  17000.000000   17000.000000   \n",
      "mean       539.410824   1429.573941    501.221941       3.883578   \n",
      "std        421.499452   1147.852959    384.520841       1.908157   \n",
      "min          1.000000      3.000000      1.000000       0.499900   \n",
      "25%        297.000000    790.000000    282.000000       2.566375   \n",
      "50%        434.000000   1167.000000    409.000000       3.544600   \n",
      "75%        648.250000   1721.000000    605.250000       4.767000   \n",
      "max       6445.000000  35682.000000   6082.000000      15.000100   \n",
      "IQR        351.250000    931.000000    323.250000       2.200625   \n",
      "\n",
      "       median_house_value  \n",
      "count        17000.000000  \n",
      "mean        207300.912353  \n",
      "std         115983.764387  \n",
      "min          14999.000000  \n",
      "25%         119400.000000  \n",
      "50%         180400.000000  \n",
      "75%         265000.000000  \n",
      "max         500001.000000  \n",
      "IQR         145600.000000  \n"
     ]
    }
   ],
   "source": [
    "#Q 5.2\n",
    "transpose_desc[\"IQR\"] = IQR\n",
    "transpose_desc = transpose_desc.T\n",
    "print(transpose_desc)"
   ]
  },
  {
   "cell_type": "markdown",
   "metadata": {
    "id": "dxuK_xkCmV38"
   },
   "source": [
    "# Q6\n",
    "\n",
    "Slect the the following\n",
    "\n",
    "6.1- Select the price of the five most expensive homes, column : \"median_house_value\"\n",
    "\n",
    "\n",
    "6.2- Select the price of the cheapest five homes, column : \"median_house_value\"\n",
    "\n",
    "\n",
    "\n",
    "6.3.1- Create a function where calculate correlation coefficient DONT USE any build-in finctions\n",
    "\n",
    "\n",
    "6.3.2- Apply correlation coefficient function on total_rooms and median_house_value\n",
    "\n",
    "\n",
    "6.3.3- Determine the relationship between them\n",
    "\n",
    "\n",
    "\n",
    "6.4- Write you own query and apply it 😆 (I am a democrat 😜)"
   ]
  },
  {
   "cell_type": "code",
   "execution_count": 86,
   "metadata": {
    "colab": {
     "base_uri": "https://localhost:8080/"
    },
    "executionInfo": {
     "elapsed": 14,
     "status": "ok",
     "timestamp": 1754733398017,
     "user": {
      "displayName": "Ameer Tamimi",
      "userId": "12915908939757294525"
     },
     "user_tz": -180
    },
    "id": "z3O-lDgRfdda",
    "outputId": "35136100-7e33-4401-e8e5-49cb595d155e"
   },
   "outputs": [
    {
     "name": "stdout",
     "output_type": "stream",
     "text": [
      "215     500001.0\n",
      "260     500001.0\n",
      "862     500001.0\n",
      "1388    500001.0\n",
      "1404    500001.0\n",
      "Name: median_house_value, dtype: float64\n"
     ]
    }
   ],
   "source": [
    "# Solution 6.1\n",
    "most_expensive = df[\"median_house_value\"].nlargest(5)\n",
    "print(most_expensive)\n"
   ]
  },
  {
   "cell_type": "code",
   "execution_count": 87,
   "metadata": {
    "colab": {
     "base_uri": "https://localhost:8080/"
    },
    "executionInfo": {
     "elapsed": 20,
     "status": "ok",
     "timestamp": 1754733461549,
     "user": {
      "displayName": "Ameer Tamimi",
      "userId": "12915908939757294525"
     },
     "user_tz": -180
    },
    "id": "pXb7hYi4fz70",
    "outputId": "634a1fc6-71a5-4ac1-8a2a-3f11738e337a"
   },
   "outputs": [
    {
     "name": "stdout",
     "output_type": "stream",
     "text": [
      "568      14999.0\n",
      "3226     14999.0\n",
      "16643    14999.0\n",
      "16801    14999.0\n",
      "7182     17500.0\n",
      "Name: median_house_value, dtype: float64\n"
     ]
    }
   ],
   "source": [
    "# Solution 6.2\n",
    "cheapest = df[\"median_house_value\"].nsmallest(5)\n",
    "print(cheapest)\n"
   ]
  },
  {
   "cell_type": "markdown",
   "metadata": {
    "id": "f2NqqXiYTLnu"
   },
   "source": [
    "**correlation coefficient**\n",
    "\n",
    "\n",
    "\n",
    "*   The correlation coefficient is an equation that is used to determine\n",
    "\n",
    "      the strength of the relation between two variables\n",
    "\n",
    "\n",
    "*   The correlation coefficient always lies between -1 to +1\n",
    "*    -1 represents X and Y are negatively correlated\n",
    "*   +1 represents X and Y are positively correlated\n",
    "\n",
    "\n",
    "\n",
    "---\n",
    "\n",
    "\n",
    "\n",
    "---\n",
    "\n",
    "\n",
    "r = n (∑xy) – ∑x ∑y / √ [n* (∑x2 – (∑x)2)] * [n* (∑y2 – (∑y)2)]\n",
    "\n",
    "\n",
    "*   r = correlation coefficient\n",
    "\n",
    "*   n = number of observations\n",
    "\n",
    "*   x = 1st variable in the context\n",
    "\n",
    "\n",
    "\n",
    "*   y = 2nd variable\n",
    "\n",
    "\n",
    "\n",
    "\n",
    "---\n",
    "\n",
    "Absolute Value of r Strength of Relationship\n",
    "\n",
    "\n",
    "r < 0.3  ==>  None or very weak\n",
    "\n",
    "\n",
    "0.3 < r <0.5   ==>  Weak\n",
    "\n",
    "\n",
    "0.5 < r < 0.7  ==>   Moderate\n",
    "\n",
    "\n",
    "r > 0.7  ==>   Strong"
   ]
  },
  {
   "cell_type": "code",
   "execution_count": 109,
   "metadata": {
    "colab": {
     "base_uri": "https://localhost:8080/"
    },
    "executionInfo": {
     "elapsed": 7,
     "status": "ok",
     "timestamp": 1754740235541,
     "user": {
      "displayName": "Ameer Tamimi",
      "userId": "12915908939757294525"
     },
     "user_tz": -180
    },
    "id": "LaWUqmKaLdXV",
    "outputId": "6035200b-cead-4e2c-e81f-8b25ae34ab2d"
   },
   "outputs": [
    {
     "name": "stdout",
     "output_type": "stream",
     "text": [
      "0.131003337780958\n",
      "None or very weak\n"
     ]
    }
   ],
   "source": [
    "# Solution 6.3\n",
    "\n",
    "# 6.3.1\n",
    "# corelation cooffecient method :\n",
    "import math\n",
    "def correlation_coefficient(x,y):\n",
    "    n = len(x)\n",
    "    sum_x = sum(x)\n",
    "    sum_y = sum(y)\n",
    "    sum_x_sqr = sum(x[i] * x[i] for i in range(n))\n",
    "    sum_y_sqr = sum(y[i] * y[i] for i in range(n))\n",
    "    sum_xy = sum(x[i] * y[i] for i in range(n))\n",
    "\n",
    "    return (n*sum_xy - sum_x*sum_y)/math.sqrt((n * sum_x_sqr - sum_x ** 2) * (n * sum_y_sqr - sum_y ** 2))\n",
    "\n",
    "# 6.3.2\n",
    "# apply the corelation coofficient on total_rooms and median_house_value\n",
    "x = list(df[\"total_rooms\"])\n",
    "y = list(df[\"median_house_value\"])\n",
    "\n",
    "r = correlation_coefficient(x,y)\n",
    "print(r)\n",
    "\n",
    "# 6.3.3\n",
    "# determine the relation based on the result of the function i made\n",
    "if r < 0.3:\n",
    "  print(\"None or very weak\")\n",
    "elif 0.3 < r <0.5 :\n",
    "  print(\"Weak\")\n",
    "elif 0.5 < r < 0.7 :\n",
    "  print(\"Weak\")\n",
    "else:\n",
    "  print(\"Strong\")\n"
   ]
  },
  {
   "cell_type": "markdown",
   "metadata": {
    "id": "0tYTuX4qnGEE"
   },
   "source": [
    "# Q7\n",
    "\n",
    "Using boolean indexing, select the following\n",
    "\n",
    "**ONE LINE OF CODE** 🛑\n",
    "\n",
    "7.1- Select ratio of houses where median_income value is above of the median_income average value\n",
    "\n",
    "\n",
    "7.2- Select the median_house_value for oldest house housing_median_age\n",
    "\n",
    "\n",
    "7.3- Calculate Apply correlation coefficient function on total_rooms and total_bedrooms and detemine the relationship\n",
    "\n",
    "\n",
    "7.4- Select Data-Frame where total_rooms greater or equal 1500\n",
    "\n",
    "\n",
    "7.5- Select Data-Frame where total_rooms greater or equal 1500 and total_bedrooms greater or equal 500\n",
    "\n",
    "\n",
    "7.6- Select Data-Frame with total_rooms, population, and  median_house_value columns where the median_house_value is greater than IQR value for median_house_value  "
   ]
  },
  {
   "cell_type": "code",
   "execution_count": 93,
   "metadata": {
    "executionInfo": {
     "elapsed": 4,
     "status": "ok",
     "timestamp": 1754737551105,
     "user": {
      "displayName": "Ameer Tamimi",
      "userId": "12915908939757294525"
     },
     "user_tz": -180
    },
    "id": "GDRAVdBOnxIl"
   },
   "outputs": [],
   "source": [
    "# Q7  Solutions"
   ]
  },
  {
   "cell_type": "code",
   "execution_count": 97,
   "metadata": {
    "colab": {
     "base_uri": "https://localhost:8080/"
    },
    "executionInfo": {
     "elapsed": 14,
     "status": "ok",
     "timestamp": 1754737801824,
     "user": {
      "displayName": "Ameer Tamimi",
      "userId": "12915908939757294525"
     },
     "user_tz": -180
    },
    "id": "XgxX67LJFfTh",
    "outputId": "0ee1e382-11dd-4cf9-efc5-4e89fbaa7838"
   },
   "outputs": [
    {
     "name": "stdout",
     "output_type": "stream",
     "text": [
      "0.4168578318922416\n"
     ]
    }
   ],
   "source": [
    "# 7.1\n",
    "output_1 = (df[df[\"median_income\"] > df[\"median_income\"].mean()]).shape[0]/df[\"median_income\"].shape[0]\n",
    "print(output_1)\n"
   ]
  },
  {
   "cell_type": "code",
   "execution_count": 104,
   "metadata": {
    "colab": {
     "base_uri": "https://localhost:8080/"
    },
    "executionInfo": {
     "elapsed": 11,
     "status": "ok",
     "timestamp": 1754739410947,
     "user": {
      "displayName": "Ameer Tamimi",
      "userId": "12915908939757294525"
     },
     "user_tz": -180
    },
    "id": "CA8mpwPSFrEJ",
    "outputId": "87cad097-fa1c-4d7f-8f35-22bda37e47b2"
   },
   "outputs": [
    {
     "name": "stdout",
     "output_type": "stream",
     "text": [
      "325      128600.0\n",
      "1011     270800.0\n",
      "1074     300000.0\n",
      "1075     331400.0\n",
      "1103      83300.0\n",
      "           ...   \n",
      "16971     62500.0\n",
      "16992     50800.0\n",
      "16993    106700.0\n",
      "16995    111400.0\n",
      "16999     94600.0\n",
      "Name: median_house_value, Length: 1052, dtype: float64\n"
     ]
    }
   ],
   "source": [
    "# 7.2\n",
    "output_2 = df[df[\"housing_median_age\"] == df[\"housing_median_age\"].max()][\"median_house_value\"]\n",
    "print(output_2)"
   ]
  },
  {
   "cell_type": "code",
   "execution_count": 111,
   "metadata": {
    "colab": {
     "base_uri": "https://localhost:8080/"
    },
    "executionInfo": {
     "elapsed": 14,
     "status": "ok",
     "timestamp": 1754740243929,
     "user": {
      "displayName": "Ameer Tamimi",
      "userId": "12915908939757294525"
     },
     "user_tz": -180
    },
    "id": "qeCUOfWvhxWL",
    "outputId": "e0872da9-5d03-4983-ee7a-6ca62219265e"
   },
   "outputs": [
    {
     "name": "stdout",
     "output_type": "stream",
     "text": [
      "0.9284038089227292 \n",
      " Strong\n"
     ]
    }
   ],
   "source": [
    "# 7.3\n",
    "r = correlation_coefficient(list(df[\"total_rooms\"]), list(df[\"total_bedrooms\"]))\n",
    "print(r, \"\\n\", \"None or very weak\" if r < 0.3 else \"Weak\" if r < 0.7 else \"Strong\")\n"
   ]
  },
  {
   "cell_type": "code",
   "execution_count": 112,
   "metadata": {
    "colab": {
     "base_uri": "https://localhost:8080/"
    },
    "executionInfo": {
     "elapsed": 14,
     "status": "ok",
     "timestamp": 1754740510346,
     "user": {
      "displayName": "Ameer Tamimi",
      "userId": "12915908939757294525"
     },
     "user_tz": -180
    },
    "id": "vFJ1G4eeinR8",
    "outputId": "88e6a4cb-d505-402d-9fe0-890325aba23c"
   },
   "outputs": [
    {
     "name": "stdout",
     "output_type": "stream",
     "text": [
      "       longitude  latitude  housing_median_age  total_rooms  total_bedrooms  \\\n",
      "0        -114.31     34.19                15.0      5612.00         1283.00   \n",
      "1        -114.47     34.40                19.0      7650.00         1901.00   \n",
      "3        -114.57     33.64                14.0      1501.00          337.00   \n",
      "6        -114.58     33.61                25.0      2907.00          680.00   \n",
      "8        -114.59     33.61                34.0      4789.00         1175.00   \n",
      "...          ...       ...                 ...          ...             ...   \n",
      "16996    -124.27     40.69                36.0      2349.00          528.00   \n",
      "16997    -124.30     41.84                17.0      2677.00          531.00   \n",
      "16998    -124.30     41.80                19.0      2672.00          552.00   \n",
      "16999    -124.35     40.54                52.0      1820.00          300.00   \n",
      "IQR         3.79      3.79                19.0      1689.25          351.25   \n",
      "\n",
      "       population  households  median_income  median_house_value  \n",
      "0          1015.0      472.00       1.493600             66900.0  \n",
      "1          1129.0      463.00       1.820000             80100.0  \n",
      "3           515.0      226.00       3.191700             73400.0  \n",
      "6          1841.0      633.00       2.676800             82400.0  \n",
      "8          3134.0     1056.00       2.178200             58400.0  \n",
      "...           ...         ...            ...                 ...  \n",
      "16996      1194.0      465.00       2.517900             79000.0  \n",
      "16997      1244.0      456.00       3.031300            103600.0  \n",
      "16998      1298.0      478.00       1.979700             85800.0  \n",
      "16999       806.0      270.00       3.014700             94600.0  \n",
      "IQR         931.0      323.25       2.200625            145600.0  \n",
      "\n",
      "[12485 rows x 9 columns]\n"
     ]
    }
   ],
   "source": [
    "# 7.4\n",
    "output_4 = df[df[\"total_rooms\"] >= 1500]\n",
    "print(output_4)"
   ]
  },
  {
   "cell_type": "code",
   "execution_count": 119,
   "metadata": {
    "colab": {
     "base_uri": "https://localhost:8080/"
    },
    "executionInfo": {
     "elapsed": 12,
     "status": "ok",
     "timestamp": 1754740618345,
     "user": {
      "displayName": "Ameer Tamimi",
      "userId": "12915908939757294525"
     },
     "user_tz": -180
    },
    "id": "sH5A8TV7i6lZ",
    "outputId": "3f124b4a-6ca7-4496-d7f1-1c2789571a66"
   },
   "outputs": [
    {
     "name": "stdout",
     "output_type": "stream",
     "text": [
      "       longitude  latitude  housing_median_age  total_rooms  total_bedrooms  \\\n",
      "0        -114.31     34.19                15.0       5612.0          1283.0   \n",
      "1        -114.47     34.40                19.0       7650.0          1901.0   \n",
      "6        -114.58     33.61                25.0       2907.0           680.0   \n",
      "8        -114.59     33.61                34.0       4789.0          1175.0   \n",
      "10       -114.60     33.62                16.0       3741.0           801.0   \n",
      "...          ...       ...                 ...          ...             ...   \n",
      "16990    -124.22     41.73                28.0       3003.0           699.0   \n",
      "16991    -124.23     41.75                11.0       3159.0           616.0   \n",
      "16996    -124.27     40.69                36.0       2349.0           528.0   \n",
      "16997    -124.30     41.84                17.0       2677.0           531.0   \n",
      "16998    -124.30     41.80                19.0       2672.0           552.0   \n",
      "\n",
      "       population  households  median_income  median_house_value  \n",
      "0          1015.0       472.0         1.4936             66900.0  \n",
      "1          1129.0       463.0         1.8200             80100.0  \n",
      "6          1841.0       633.0         2.6768             82400.0  \n",
      "8          3134.0      1056.0         2.1782             58400.0  \n",
      "10         2434.0       824.0         2.6797             86500.0  \n",
      "...           ...         ...            ...                 ...  \n",
      "16990      1530.0       653.0         1.7038             78300.0  \n",
      "16991      1343.0       479.0         2.4805             73200.0  \n",
      "16996      1194.0       465.0         2.5179             79000.0  \n",
      "16997      1244.0       456.0         3.0313            103600.0  \n",
      "16998      1298.0       478.0         1.9797             85800.0  \n",
      "\n",
      "[6827 rows x 9 columns]\n"
     ]
    }
   ],
   "source": [
    "# 7.5\n",
    "output_5 = df[(df[\"total_rooms\"] >= 1500) & (df[\"total_bedrooms\"] >= 500)]\n",
    "print(output_5)"
   ]
  },
  {
   "cell_type": "code",
   "execution_count": 164,
   "metadata": {
    "colab": {
     "base_uri": "https://localhost:8080/"
    },
    "executionInfo": {
     "elapsed": 45,
     "status": "ok",
     "timestamp": 1754741784680,
     "user": {
      "displayName": "Ameer Tamimi",
      "userId": "12915908939757294525"
     },
     "user_tz": -180
    },
    "id": "Fay9ulJfjOn4",
    "outputId": "caf2bbfd-bfbb-4a57-bb63-ce374c424ee3"
   },
   "outputs": [
    {
     "name": "stdout",
     "output_type": "stream",
     "text": [
      "       total_rooms  population  median_house_value\n",
      "32          1136.0       481.0            146300.0\n",
      "100         2183.0      1000.0            159900.0\n",
      "146           89.0        79.0            155000.0\n",
      "172         7437.0       574.0            382400.0\n",
      "175        12991.0      4571.0            199300.0\n",
      "...            ...         ...                 ...\n",
      "16888       1804.0       895.0            150000.0\n",
      "16890       1880.0       743.0            152700.0\n",
      "16899       1452.0       516.0            165600.0\n",
      "16906        334.0       780.0            153100.0\n",
      "16912       1287.0       805.0            150000.0\n",
      "\n",
      "[11049 rows x 3 columns]\n"
     ]
    }
   ],
   "source": [
    "# 7.6\n",
    "output_6 = df.loc[df[\"median_house_value\"] > transpose_desc.loc[\"IQR\" , \"median_house_value\"]\n",
    "                              ,[\"total_rooms\",\"population\" , \"median_house_value\"]]\n",
    "print(output_6)\n"
   ]
  },
  {
   "cell_type": "markdown",
   "metadata": {
    "id": "taCUBosBn3S3"
   },
   "source": [
    "#  No pain ... No gain\n",
    "\n",
    "**Good luck** ♥"
   ]
  }
 ],
 "metadata": {
  "colab": {
   "collapsed_sections": [
    "w0N9FmxVkN9n",
    "toB5DAQ2klvq"
   ],
   "provenance": []
  },
  "kernelspec": {
   "display_name": "Python 3",
   "name": "python3"
  },
  "language_info": {
   "name": "python"
  }
 },
 "nbformat": 4,
 "nbformat_minor": 0
}
